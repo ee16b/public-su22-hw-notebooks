{
 "cells": [
  {
   "cell_type": "markdown",
   "metadata": {},
   "source": [
    "# Inverse Kinematics"
   ]
  },
  {
   "cell_type": "markdown",
   "metadata": {},
   "source": [
    "Changelog:\n",
    "- Created by Stephen Bailey, Anant Sahai\n",
    "- Fall 21: Added draggable goal animation, Ashwin Vangipuram"
   ]
  },
  {
   "cell_type": "code",
   "execution_count": null,
   "metadata": {},
   "outputs": [],
   "source": [
    "import numpy as np\n",
    "import matplotlib as mpl\n",
    "import matplotlib.pyplot as plt\n",
    "import matplotlib.animation as animation\n",
    "%matplotlib nbagg"
   ]
  },
  {
   "cell_type": "markdown",
   "metadata": {},
   "source": [
    "# Function Definitions\n",
    "This computes $\\vec f(\\vec \\theta)$, which is the function that takes the amount each joint will be rotate and gives us the position of the end effector.  This computation is called forward kinematics."
   ]
  },
  {
   "cell_type": "code",
   "execution_count": null,
   "metadata": {},
   "outputs": [],
   "source": [
    "def f(r, theta, start):\n",
    "    \"\"\"\n",
    "    Compute the forward kinematics.\n",
    "    \n",
    "    Args:\n",
    "        r: array of lengths of each joint of the arm\n",
    "        theta: array of angles which tell how much each joint should be rotated\n",
    "        start: 3D location of the first/root joint of the arm\n",
    "    \n",
    "    Returns:\n",
    "        points: array of 2D points of each joint, each row is a point\n",
    "    \"\"\"\n",
    "    points = np.array([start])\n",
    "    start_hom = np.append(start, [1]) # The one at the end is there for homogeneous coordinates\n",
    "    curPoint = start_hom\n",
    "    T = np.eye(3,3)\n",
    "    \n",
    "    # here, we go down the arm rotating the current point and moving it down the length of the joint for each joint\n",
    "    for i in range(0, r.size):\n",
    "        # rotation + translation, rigid body transformation matrix\n",
    "        R = np.array([[np.cos(theta[i]), -np.sin(theta[i]), np.cos(theta[i])*r[i]],\n",
    "                      [np.sin(theta[i]), np.cos(theta[i]), np.sin(theta[i])*r[i]],\n",
    "                      [0, 0, 1]])\n",
    "        T = T @ R\n",
    "        # update the current point to the end of the current joint\n",
    "        curPoint = T @ start_hom\n",
    "        points = np.vstack((points, curPoint[None, :2])) # keep track of the set of points so we can plot the arm later\n",
    "    return points"
   ]
  },
  {
   "cell_type": "markdown",
   "metadata": {},
   "source": [
    "This computes $\\vec g(\\vec \\theta)$, which is the function that computes the difference between the location of the end effector $\\vec f(\\vec{\\theta})$ and our target point $\\vec t$."
   ]
  },
  {
   "cell_type": "code",
   "execution_count": null,
   "metadata": {},
   "outputs": [],
   "source": [
    "def g(r, theta, start, target):\n",
    "    \"\"\"\n",
    "    Computes error f(theta) - target.\n",
    "    \n",
    "    Args:\n",
    "        r, theta, and start are the same for f\n",
    "        target: vector indicating the target point we want the end of the arm to be at\n",
    "    \"\"\"\n",
    "    points = f(r, theta, start)\n",
    "    end_pos = points[-1, :2]\n",
    "    return end_pos - target"
   ]
  },
  {
   "cell_type": "markdown",
   "metadata": {},
   "source": [
    "This computes the Jacobian $J_{\\vec g}(\\vec\\theta)$, which is the 2x4 matrix of partial derivatives of the function $\\vec g(\\vec \\theta)$."
   ]
  },
  {
   "cell_type": "code",
   "execution_count": null,
   "metadata": {},
   "outputs": [],
   "source": [
    "def Jg(r, theta, start, target):\n",
    "    \"\"\"\n",
    "    Computes the Jacobian of g wrt theta, using a numeric approach. \n",
    "    Has the same arguments as g.\n",
    "    \"\"\"\n",
    "    epsilon = 1e-6\n",
    "    J = np.zeros((2, 0))\n",
    "    for i in range(0, r.size):\n",
    "        # use a central difference to estimate the derivatives\n",
    "        t = theta\n",
    "        t[i] = t[i] + epsilon\n",
    "        p = g(r, t, start, target)\n",
    "        t = theta\n",
    "        t[i] = t[i] - epsilon\n",
    "        n = g(r, t, start, target)\n",
    "        deriv = (p - n) / (2 * epsilon)\n",
    "        J = np.hstack((J, deriv[:, None]))\n",
    "    return J"
   ]
  },
  {
   "cell_type": "markdown",
   "metadata": {},
   "source": [
    "This computes the pseudoinverse of the input matrix.  This is the function that you will be filling in."
   ]
  },
  {
   "cell_type": "code",
   "execution_count": null,
   "metadata": {},
   "outputs": [],
   "source": [
    "def pseudoinverse(A):\n",
    "    \"\"\"\n",
    "    Computes the pseudoinverse of A. \n",
    "    Sets small singular values of A to 0 when calculating the inverse.\n",
    "    \"\"\"\n",
    "    # Your code here: (a)\n",
    "    U, s, VT = #STUDENT, use NumPy to compute the compact SVD of A\n",
    "    # End Code #\n",
    "    # Initialize new singular values to all 0\n",
    "    s_new = np.zeros_like(s)\n",
    "    for i in range(0, s.size):\n",
    "        epsilon = 1e-3\n",
    "        # Your code here: (b) #STUDENT, invert the not-tiny entries of s here\n",
    "        if np.abs(s[i]) > epsilon:\n",
    "            s_new[i] =\n",
    "        # End Code #\n",
    "    # Your code here: (c)\n",
    "    A_pinv = #STUDENT, compute the pseudo inverse using U, VT, and the inverted singular values\n",
    "    # End Code #\n",
    "    return A_pinv"
   ]
  },
  {
   "cell_type": "markdown",
   "metadata": {},
   "source": [
    "This computes the direction we need to move $\\vec \\theta$ to get closer to the target by using Newton's method.  The direction is given by $-J_{\\vec g}(\\vec \\theta)^{\\dagger}\\vec g(\\vec \\theta)$."
   ]
  },
  {
   "cell_type": "code",
   "execution_count": null,
   "metadata": {},
   "outputs": [],
   "source": [
    "def newton(c, J):\n",
    "    \"\"\"\n",
    "    Calculates the direction of descent for Newton's Method.\n",
    "    \n",
    "    Args:\n",
    "        c: the value g(x)\n",
    "        J: the Jacobian evaluated at x\n",
    "    \"\"\"\n",
    "    delta = -pseudoinverse(J) @ c\n",
    "    return delta"
   ]
  },
  {
   "cell_type": "markdown",
   "metadata": {},
   "source": [
    "This updates $\\vec \\theta$ by adjusting $\\eta$ to decide how far to move $\\vec \\theta$, and we will thus compute the newton step given by $\\vec \\theta^{(i+1)} = \\vec \\theta^{(i)}-\\eta J_{\\vec g}(\\vec{\\theta)^{\\dagger}}\\vec g(\\vec \\theta)$.  To compute $\\eta$, we start with $\\eta=1$ and test $\\vec{g}(\\vec \\theta^{(i+1)})$ is closer to the target.  If it's not, we divide $\\eta$ by 2 and repeat.  If $\\eta$ become small enough and we still haven't found a $\\vec \\theta^{(i+1)}$ that moves the end effector closer to the target, then we stop."
   ]
  },
  {
   "cell_type": "code",
   "execution_count": null,
   "metadata": {},
   "outputs": [],
   "source": [
    "# this performs one newton step and estimates eta by starting with eta=1\n",
    "# if the end effector of the arm is moved farther away after this step,\n",
    "# we divide eta by 2 and then repeat until we move closer or if eta is too small\n",
    "def update(r, theta, start, target):\n",
    "    cost = g(r, theta, start, target)\n",
    "    oldCost = np.linalg.norm(cost)\n",
    "    J = Jg(r, theta, start, target)\n",
    "    delta = newton(cost, J)\n",
    "    eta = 1.0\n",
    "    while eta > 1e-6:\n",
    "        cost = g(r, theta + eta * delta, start, target)\n",
    "        newCost = np.linalg.norm(cost)\n",
    "        if newCost < oldCost:\n",
    "            theta = theta + eta * delta\n",
    "            break\n",
    "        eta = eta / 2\n",
    "    return theta"
   ]
  },
  {
   "cell_type": "markdown",
   "metadata": {},
   "source": [
    "This puts everything together to compute $\\vec \\theta$ that moves the arm to the target"
   ]
  },
  {
   "cell_type": "code",
   "execution_count": null,
   "metadata": {},
   "outputs": [],
   "source": [
    "def IK(r, thetaStart, start, target, num_iter=8):\n",
    "    theta = thetaStart\n",
    "    oldCost = np.linalg.norm(g(r, theta, start, target))\n",
    "    newCost = oldCost\n",
    "    iteration = 0\n",
    "    while newCost <= oldCost and iteration < num_iter:\n",
    "        oldCost = newCost\n",
    "        theta = update(r, theta, start, target)\n",
    "        newCost = np.linalg.norm(g(r, theta, start, target))\n",
    "        iteration = iteration + 1\n",
    "    return theta"
   ]
  },
  {
   "cell_type": "markdown",
   "metadata": {},
   "source": [
    "This is a helper function to visualize the arm"
   ]
  },
  {
   "cell_type": "code",
   "execution_count": null,
   "metadata": {},
   "outputs": [],
   "source": [
    "def plotArm(r, theta, start, target):\n",
    "    p = f(r, theta, start)\n",
    "    fig = plt.figure(figsize=(5, 5))\n",
    "    plt.xlim(-4, 6)\n",
    "    plt.ylim(-4, 6)\n",
    "    plt.plot(*target, 'b-o', markersize=12)\n",
    "    plt.plot(p[:, 0], p[:, 1], 'r-o',linewidth=4, markersize=8)"
   ]
  },
  {
   "cell_type": "markdown",
   "metadata": {},
   "source": [
    "# Testing"
   ]
  },
  {
   "cell_type": "markdown",
   "metadata": {},
   "source": [
    "This tests your pseudo inverse function in three cases"
   ]
  },
  {
   "cell_type": "code",
   "execution_count": null,
   "metadata": {},
   "outputs": [],
   "source": [
    "# We define the location of the first arm joint and the length of each joint\n",
    "start = np.array([0, 0])\n",
    "r = np.array([1.0, 1.0, 1.0, 1.0])\n",
    "\n",
    "# Test if the arm can reach a target\n",
    "theta = np.array([-0.16227303, -0.60693046, 0.72069313, 0.70009674])\n",
    "target = np.array([2.0, 2.0])\n",
    "theta = IK(r, theta, start, target)\n",
    "plotArm(r, theta, start, target)\n",
    "\n",
    "# Test if the arm can point to a target out of reach\n",
    "theta = np.array([0.0, 0.0, 0.0, 0.0])\n",
    "target = np.array([4.0, 4.0])\n",
    "theta = IK(r, theta, start, target)\n",
    "plotArm(r, theta, start, target)\n",
    "\n",
    "# Test how well the pseudoinverse works with small singular values\n",
    "theta = np.array([0.0, 0.0, 0.0, 0.0]) + (np.random.rand(4) - 0.5) / 1e6\n",
    "target = np.array([-1, 3])\n",
    "theta = IK(r, theta, start, target)\n",
    "plotArm(r, theta, start, target)"
   ]
  },
  {
   "cell_type": "markdown",
   "metadata": {},
   "source": [
    "This animates the arm reaching for a moving target.  When the target goes out of reach, the arm should point towards the target because that is the closest it can get to the target."
   ]
  },
  {
   "cell_type": "code",
   "execution_count": null,
   "metadata": {},
   "outputs": [],
   "source": [
    "# initialize the arm\n",
    "theta_ani = np.array([0.0, 0.0, 0.0, 0.0])\n",
    "r = np.array([1.0, 1.0, 1.0, 1.0])\n",
    "start = np.array([0, 0])\n",
    "\n",
    "# set up the plot\n",
    "fig_ani, _ = plt.subplots(figsize=(4, 6))\n",
    "plt.xlim(-1, 4)\n",
    "plt.ylim(-5, 5)\n",
    "line_ani, = plt.plot([], [], 'r-o', linewidth=4, markersize=10)\n",
    "point_ani, = plt.plot([],[],'b-o',markersize=12)\n",
    "angle = 2.0\n",
    "\n",
    "def update_arm_ani(num, r, s):\n",
    "    global angle, theta_ani\n",
    "    angle = np.mod(angle + 0.05, 2 * np.pi)\n",
    "    t = np.array([2.0, 4.5 * np.sin(angle)])\n",
    "    theta_ani = IK(r, theta_ani, s, t)\n",
    "    theta_ani = np.mod(theta_ani, 2 * np.pi)\n",
    "    p = f(r, theta_ani, s)\n",
    "    line_ani.set_data(p.T)\n",
    "    point_ani.set_data(t)\n",
    "    return [line_ani, point_ani]\n",
    "\n",
    "arm_ani = animation.FuncAnimation(fig_ani, update_arm_ani, 200, fargs=(r, start), interval=1000/12, blit=True, repeat=False)"
   ]
  },
  {
   "cell_type": "code",
   "execution_count": null,
   "metadata": {},
   "outputs": [],
   "source": [
    "class DraggableMarker():\n",
    "    \"\"\"\n",
    "    Creates a marker that is draggable.\n",
    "    \n",
    "    Args:\n",
    "        start: start position of the marker. defaults to [0, 0]\n",
    "        ax: matplotlib.Axes to draw the marker onto\n",
    "        update_cb: callback function that takes as argument a matplotlib MouseEvent and is called each time an event occurs\n",
    "    \"\"\"\n",
    "    def __init__(self, start=None, ax=None, update_cb=None):\n",
    "        if ax == None:\n",
    "            self.ax = plt.gca()\n",
    "        else:\n",
    "            self.ax = ax\n",
    "        self.update_cb = update_cb\n",
    "        if start is None:\n",
    "            start = [0, 0]\n",
    "        self.marker = self.ax.plot(*start, 'b-o', markersize=12)[0]\n",
    "        self.draggable = False\n",
    "        \n",
    "        # Set up event hooks\n",
    "        self.ax.figure.canvas.mpl_connect(\"button_press_event\", self.click)\n",
    "        self.ax.figure.canvas.mpl_connect(\"button_release_event\", self.release)\n",
    "        self.ax.figure.canvas.mpl_connect(\"motion_notify_event\", self.drag)\n",
    "    \n",
    "    def click(self, event):\n",
    "        if event.button == mpl.backend_bases.MouseButton.LEFT:\n",
    "            # Left click\n",
    "            self.draggable = True\n",
    "            self.update(event)\n",
    "        else:\n",
    "            self.draggable = False\n",
    "\n",
    "        self.ax.figure.canvas.draw_idle()        \n",
    "\n",
    "    def drag(self, event):\n",
    "        if self.draggable:\n",
    "            self.update(event)\n",
    "            self.ax.figure.canvas.draw_idle()\n",
    "\n",
    "    def release(self,event):\n",
    "        self.draggable = False\n",
    "        ax.figure.canvas.draw_idle()\n",
    "\n",
    "    def update(self, event):\n",
    "        self.marker.set_data([event.xdata],[event.ydata])\n",
    "        self.update_cb(event)\n",
    "        \n",
    "def update_arm_drag(event):\n",
    "    global t_drag, theta_drag\n",
    "    t_drag = np.array([event.xdata, event.ydata])\n",
    "    theta_drag = IK(r, theta_drag, start, t_drag)\n",
    "    theta_drag = np.mod(theta_drag, 2 * np.pi)\n",
    "    p = f(r, theta_drag, start)\n",
    "    line_drag.set_data(p.T)\n",
    "    \n",
    "# initialize the arm\n",
    "theta_drag = np.array([0.0, 0.0, 0.0, 0.0])\n",
    "r = np.array([1.0, 1.0, 1.0, 1.0])\n",
    "start = np.array([0, 0])\n",
    "t_drag = np.array([0, 1])\n",
    "theta_drag = IK(r, theta_drag, start, t_drag)\n",
    "p = f(r, theta_drag, start)\n",
    "\n",
    "# set up the plot\n",
    "fig, ax = plt.subplots(figsize=(6, 6))\n",
    "plt.xlim(-6, 6)\n",
    "plt.ylim(-6, 6)\n",
    "line_drag, = plt.plot(p[:, 0], p[:, 1], 'r-o', linewidth=4, markersize=8)\n",
    "\n",
    "dm = DraggableMarker(t_drag, ax, update_arm_drag)\n",
    "\n",
    "plt.show()"
   ]
  }
 ],
 "metadata": {
  "kernelspec": {
   "display_name": "Python 3",
   "language": "python",
   "name": "python3"
  },
  "language_info": {
   "codemirror_mode": {
    "name": "ipython",
    "version": 3
   },
   "file_extension": ".py",
   "mimetype": "text/x-python",
   "name": "python",
   "nbconvert_exporter": "python",
   "pygments_lexer": "ipython3",
   "version": "3.8.10"
  }
 },
 "nbformat": 4,
 "nbformat_minor": 1
}
