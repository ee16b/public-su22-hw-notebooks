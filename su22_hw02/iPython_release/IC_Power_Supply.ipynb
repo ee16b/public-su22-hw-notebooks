{
 "cells": [
  {
   "cell_type": "markdown",
   "metadata": {},
   "source": [
    "# IC Power Supply\n",
    "\n",
    "The following notebook enables you to explore how different values of R and C and different power draw patterns can impact the noise on a voltage supply."
   ]
  },
  {
   "cell_type": "code",
   "execution_count": null,
   "metadata": {
    "pycharm": {
     "is_executing": false
    }
   },
   "outputs": [],
   "source": [
    "%matplotlib notebook\n",
    "import numpy as np\n",
    "import matplotlib\n",
    "matplotlib.interactive(True)\n",
    "from matplotlib import pyplot as plt\n",
    "from matplotlib.widgets import Slider"
   ]
  },
  {
   "cell_type": "markdown",
   "metadata": {
    "pycharm": {
     "name": "#%% md\n"
    }
   },
   "source": [
    "The following variables can be adjusted to modify the simulation of the IC power supply:\n"
   ]
  },
  {
   "cell_type": "code",
   "execution_count": null,
   "metadata": {
    "pycharm": {
     "name": "#%%\n"
    }
   },
   "outputs": [],
   "source": [
    "Vs = 3\n",
    "R = 2\n",
    "C = 1e-9\n",
    "T = 11e-9\n",
    "tp = 1e-9\n",
    "i_0 = 1\n",
    "V_initial = Vs"
   ]
  },
  {
   "cell_type": "code",
   "execution_count": null,
   "metadata": {
    "pycharm": {
     "name": "#%%\n"
    }
   },
   "outputs": [],
   "source": [
    "def run_simulation():\n",
    "    \"\"\"\n",
    "    This function initializes arrays containing data such as voltages and \n",
    "    time steps based on the parameters from the previous cell. Then it\n",
    "    simulates the output voltage Vdd from these parameters.\n",
    "    \"\"\"\n",
    "    # Calculate timesteps and initial conditions\n",
    "    t_initial = 0\n",
    "    t_final = 40e-9\n",
    "    # Set the simulation time step to be at least 10 times smaller than the RC time constant\n",
    "    # Or 100x smaller than the width of the current pulse, whichever is smaller\n",
    "    delta_t = min((R * C) / 10, tp / 100)\n",
    "    n_steps = int((t_final - t_initial) // delta_t)\n",
    "\n",
    "    # Generate array of times and an empty array of Output voltages\n",
    "    t = np.linspace(t_initial, t_final, n_steps)\n",
    "    Vdd = np.zeros([n_steps])\n",
    "\n",
    "    # Generate array of source current pulses vs. time\n",
    "    i_source = np.zeros([n_steps])\n",
    "    for i in range(n_steps):\n",
    "        if t[i] % T < tp:\n",
    "            i_source[i] += i_0\n",
    "\n",
    "    # Set initial condition on output Voltage\n",
    "    Vdd[0] = V_initial\n",
    "\n",
    "    # Use Forward Euler method to calculate Vdd\n",
    "    # TODO: In the future, switch to using Backward Euler or Runge-Kutta for better\n",
    "    # stability\n",
    "    for i in range(1, n_steps):\n",
    "        Vdd[i] = (delta_t*(1/C)*((Vs/R) - (Vdd[i-1]/R) - i_source[i-1])) + Vdd[i-1]\n",
    "    return t, i_source, Vdd\n",
    "\n",
    "t, i_source, Vdd = run_simulation()\n",
    "\n",
    "# Plot the results\n",
    "f, (ax1, ax2) = plt.subplots(2, 1, sharex=True)\n",
    "plt.subplots_adjust(top=0.75)\n",
    "data_isource, = ax1.plot(t, i_source)\n",
    "ax1.grid(True)\n",
    "ax1.set_ylabel('IC(t) (A)')\n",
    "ax1.set_title('VDD vs. Varying Current Load')\n",
    "\n",
    "data_vdd, = ax2.plot(t, Vdd)\n",
    "ax2.grid(True)\n",
    "ax2.set_xlabel('Time (Seconds)')\n",
    "ax2.set_ylabel('VDD(t) (V)')\n",
    "ax2.set_ylim([0,Vs])"
   ]
  },
  {
   "cell_type": "code",
   "execution_count": null,
   "metadata": {},
   "outputs": [],
   "source": []
  }
 ],
 "metadata": {
  "kernelspec": {
   "display_name": "Python 3 (ipykernel)",
   "language": "python",
   "name": "python3"
  },
  "language_info": {
   "codemirror_mode": {
    "name": "ipython",
    "version": 3
   },
   "file_extension": ".py",
   "mimetype": "text/x-python",
   "name": "python",
   "nbconvert_exporter": "python",
   "pygments_lexer": "ipython3",
   "version": "3.10.1"
  },
  "pycharm": {
   "stem_cell": {
    "cell_type": "raw",
    "metadata": {
     "collapsed": false
    },
    "source": []
   }
  }
 },
 "nbformat": 4,
 "nbformat_minor": 1
}
