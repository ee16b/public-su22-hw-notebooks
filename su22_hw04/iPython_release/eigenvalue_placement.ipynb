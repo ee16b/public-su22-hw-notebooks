{
 "cells": [
  {
   "cell_type": "markdown",
   "metadata": {},
   "source": [
    "# Eigenvalue Placement and Stability"
   ]
  },
  {
   "cell_type": "code",
   "execution_count": null,
   "metadata": {},
   "outputs": [],
   "source": [
    "import numpy as np\n",
    "import matplotlib.pyplot as plt\n",
    "import matplotlib.animation as animation\n",
    "from numpy import linalg as LA\n",
    "%matplotlib inline"
   ]
  },
  {
   "cell_type": "markdown",
   "metadata": {},
   "source": [
    "#### (d)  Evolution of states due to control\n",
    "Here, we set the the values of the state transition matrices and assign the Gaussian error. You can use different kinds of error and check if it changes the behavior of the norm. Take the input $u[t]$ to be equal to zero for this case. Finally, we'll evaluate the evolution of $\\vec{x}[t]$ over time according to\n",
    "$$\\vec{x}[t+1] = A\\vec{x}[t] + \\vec{w}[t]$$"
   ]
  },
  {
   "cell_type": "code",
   "execution_count": null,
   "metadata": {},
   "outputs": [],
   "source": [
    "# Define system matrices\n",
    "A = np.array([[-2, 2],[-2, 3]]) # 2 x 2 matrix.\n",
    "b = np.array([[1], [1]]) # 2 x 1 matrix (note you could also represent this as a length 2 vector).\n",
    "# Check the eigenvalue of matrix A. The eigenvalues will determine if the system is stable or not.\n",
    "print(\"A eigenvalues:\\n\", LA.eigvals(A)) \n",
    "\n",
    "# Number of time steps\n",
    "t0 = 100\n",
    "\n",
    "# Random disturbance input\n",
    "# Create an list of length t0 whose entries are 2 x 1 matrices composed of random numbers \n",
    "# with a Gaussian distribution of mu = 0 and sigma = 1. \n",
    "mu, sigma = 0, 1 # define mean and standard deviation\n",
    "w = np.random.normal(mu, sigma, (t0, 2, 1)) # Assign the disturbance\n",
    "\n",
    "# Define initial state \n",
    "# BEGIN STUDENT: Assign the initial state of the matrix\n",
    "x0 = ? # Student: Pick an initial state of the system. You can change it to see if the ouput changes. 2 x 1 matrix.\n",
    "# END STUDENT\n",
    "\n",
    "x = x0\n",
    "normw = np.zeros(t0)\n",
    "normx = np.zeros(t0)\n",
    "\n",
    "# Finally, to complete (h) we evaluate the evolution of the state $\\vec{x}[t]$ with time and \n",
    "# find the norm of the state $\\vec{x}[t]$ and the error w[t] as a function of time\n",
    "\n",
    "# BEGIN STUDENT: Compute the state evolution for the open loop system.\n",
    "for t in range(t0):\n",
    "    x = ? # Student: Compute the state evolution $\\vec{x}[t+1] = A\\vec{x}[t] + w[t]$\n",
    "    normw[t] = ? # Student: Calculate the norm of error at a given time\n",
    "    normx[t] = ? # Student: Calculate the norm of the state at a given time\n",
    "# END STUDENT\n",
    "\n",
    "#Plotting the norm of w(t) and x(t)\n",
    "plt.figure(figsize=(8, 6))\n",
    "plt.plot(normw, linewidth=2)\n",
    "plt.ylabel('|w[t]|', fontsize =20)\n",
    "plt.xlabel('t', fontsize =20)\n",
    "plt.title('Disturbance', fontsize=16)\n",
    "\n",
    "plt.figure(figsize=(8, 6))\n",
    "plt.plot(normx, linewidth=2)\n",
    "plt.ylabel('|x[t]|', fontsize =20)\n",
    "plt.xlabel('t', fontsize =20)\n",
    "plt.title('Open-Loop State Magnitude vs. Time', fontsize=16)\n",
    "\n",
    "plt.show()"
   ]
  },
  {
   "cell_type": "markdown",
   "metadata": {},
   "source": [
    "#### (e) Feedback to stablize the system\n",
    "Now we will add feedback to the system. Assign the matrix $\\vec{f} = [f_1, f_2]$ calculated in part (c) of the problem to check if the state becomes bounded over time. Then we'll calculate the new state evolution as a function of time and check if the norm changes."
   ]
  },
  {
   "cell_type": "code",
   "execution_count": null,
   "metadata": {},
   "outputs": [],
   "source": [
    "#BEGIN STUDENT: Assign a feedback constants F = [f1 f2] and calculate the closed loop state transition matrix A_cl.\n",
    "f = ? # Student: Assign the value of f = [f1 f2]. 1 x 2 matrix.\n",
    "A_cl = ? # Student: Assign A_cl = A + BF. 2 x 2 matrix.\n",
    "#END STUDENT\n",
    "print(\"A_cl:\\n\", A_cl)\n",
    "print(\"A_cl eigenvalues:\\n\", LA.eigvals(A_cl))\n",
    "\n",
    "# Here we calculate the evolution of state $\\vec{x}[t] for the system with feedback\n",
    "x = x0\n",
    "normf = np.zeros(t0)\n",
    "\n",
    "# BEGIN STUDENT: Compute the state evolution for the closed loop system.\n",
    "# This should look very similar to the state evolution for the open loop system.\n",
    "for t in range(t0):\n",
    "    x = ? # Compute the state evolution $\\vec{x}[t+1] = A_cl\\vec{x}[t] + w[t]$\n",
    "    normf[t] = ? # Compute norm of x\n",
    "# END STUDENT\n",
    "\n",
    "# Finally, we plot the state evolution of the system with feedback, to see that it no longer diverges\n",
    "plt.figure(figsize=(8, 6))\n",
    "plt.plot(normf, linewidth=2) \n",
    "plt.ylabel('|x[t]|', fontsize =20)\n",
    "plt.xlabel('t', fontsize=20)\n",
    "plt.title('Closed-Loop State Magnitude vs. Time', fontsize=16)\n",
    "plt.show()"
   ]
  },
  {
   "cell_type": "code",
   "execution_count": null,
   "metadata": {},
   "outputs": [],
   "source": []
  }
 ],
 "metadata": {
  "kernelspec": {
   "display_name": "Python 3 (ipykernel)",
   "language": "python",
   "name": "python3"
  },
  "language_info": {
   "codemirror_mode": {
    "name": "ipython",
    "version": 3
   },
   "file_extension": ".py",
   "mimetype": "text/x-python",
   "name": "python",
   "nbconvert_exporter": "python",
   "pygments_lexer": "ipython3",
   "version": "3.9.10"
  }
 },
 "nbformat": 4,
 "nbformat_minor": 1
}
