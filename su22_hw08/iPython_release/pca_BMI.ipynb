{
 "cells": [
  {
   "cell_type": "markdown",
   "metadata": {},
   "source": [
    "# Brain-Machine Interface Spike Sorting with PCA\n",
    "\n",
    "### EE 16B: Designing Information Devices and Systems II, Adapted from Original SVD Lab "
   ]
  },
  {
   "cell_type": "markdown",
   "metadata": {},
   "source": [
    "## Table of Contents\n",
    "* [Task 1: Two Neuron Spike Sorting](#Task-1:-Two-Neuron-Spike-Sorting)\n",
    "* [Task 2: Three Neuron Spike Sorting](#Task-2:-Three-Neuron-Spike-Sorting)\n",
    "* [Task 3: Determining Neurons](#Task-3:-Determining-Neurons)"
   ]
  },
  {
   "cell_type": "markdown",
   "metadata": {},
   "source": [
    "## Task 1: Two Neuron Spike Sorting "
   ]
  },
  {
   "cell_type": "markdown",
   "metadata": {},
   "source": [
    "## Part a)"
   ]
  },
  {
   "cell_type": "markdown",
   "metadata": {},
   "source": [
    "We are going to load in several waveforms for each neuron. We have three neurons total. We will refer to these as neurons 1, 2, and 3 respectively.\n",
    "\n",
    "More specifically:  \n",
    "Neuron 1 corresponds to the waveforms with name sig118a_wf. These are just a list of many waveforms collected by neuron 1. Each waveform has 32 samples of Neuron 1.   \n",
    "Neuron 2 corresponds to the waveforms with name sig118b_wf. These are just a list of many waveforms collected by neuron 2. Each waveform has 32 samples of Neuron 2.   \n",
    "Neuron 3 corresponds to the waveforms with name sig118c_wf. These are just a list of many waveforms collected by neuron 3. Each waveform has 32 samples of Neuron 3.   "
   ]
  },
  {
   "cell_type": "code",
   "execution_count": null,
   "metadata": {
    "scrolled": false
   },
   "outputs": [],
   "source": [
    "%matplotlib notebook\n",
    "import matplotlib\n",
    "import numpy as np\n",
    "import scipy.io\n",
    "import scipy.cluster\n",
    "import matplotlib.pyplot as plt\n",
    "from mpl_toolkits.mplot3d import Axes3D\n",
    "matplotlib.rcParams[\"figure.max_open_warning\"] = 40\n",
    "\n",
    "# Load data\n",
    "presorted = {k: v for k, v in scipy.io.loadmat('spike_waveforms').items() \\\n",
    "             if k in ('sig118a_wf', 'sig118b_wf', 'sig118c_wf')}\n",
    "\n",
    "# We are defining this list for plotting convenience later. Safe to ignore for the most part.\n",
    "presorted_list = [presorted['sig118a_wf'], presorted['sig118b_wf'], presorted['sig118c_wf']]"
   ]
  },
  {
   "cell_type": "code",
   "execution_count": null,
   "metadata": {},
   "outputs": [],
   "source": [
    "# We can append all these waveforms into a huge matrix with 32 columns (1 column for each sample)\n",
    "presorted_two_neurons = np.concatenate([presorted['sig118b_wf'], presorted['sig118c_wf']])\n",
    "presorted_three_neurons = np.concatenate([presorted['sig118a_wf'], presorted['sig118b_wf'], presorted['sig118c_wf']])"
   ]
  },
  {
   "cell_type": "code",
   "execution_count": null,
   "metadata": {},
   "outputs": [],
   "source": [
    "def _make_training_set(data):\n",
    "    \"\"\" Separate data set into 2 sets. \n",
    "    1/6 of the dataset is training set and the rest is test set\n",
    "    Parameter:\n",
    "        data: waveform data (width = number of samples per spike)\n",
    "    \"\"\"\n",
    "    n = data.shape[0]\n",
    "    idx_training = np.random.choice(n, n // 6, replace=False)\n",
    "    training_set = data[idx_training]\n",
    "    idx_test = [i for i in range(n) if i not in idx_training]\n",
    "    test_set = data[idx_test]\n",
    "   \n",
    "    return training_set, test_set\n",
    "\n",
    "# Create training and testing dataset\n",
    "two_neurons_training, two_neurons_test = _make_training_set(presorted_two_neurons)\n",
    "three_neurons_training, three_neurons_test = _make_training_set(presorted_three_neurons)\n",
    "\n",
    "print(\"Training data shape:\", three_neurons_training.shape)"
   ]
  },
  {
   "cell_type": "markdown",
   "metadata": {},
   "source": [
    "To get an idea of what the data looks like, let us plot 1 row of the `two_neurons_training` matrix and print/plot it out"
   ]
  },
  {
   "cell_type": "code",
   "execution_count": null,
   "metadata": {},
   "outputs": [],
   "source": [
    "first_row = two_neurons_training[0,:]\n",
    "print(f\"First Row of 2 Neuron Training Set: {first_row}\")\n",
    "plt.title(\"First Row of 2 Neuron Training Set\")\n",
    "plt.xlabel('Samples')\n",
    "plt.ylabel('Electrode Reading')\n",
    "plt.plot(first_row)"
   ]
  },
  {
   "cell_type": "markdown",
   "metadata": {},
   "source": [
    "So, this is what one reading looks like. What we have is a mixture of two types of neurons and their waveforms stored in the rows of `two_neurons_training`. Similarly, we have three types of neurons and their waveforms in the rows of `three_neurons_training`. "
   ]
  },
  {
   "cell_type": "code",
   "execution_count": null,
   "metadata": {
    "scrolled": false
   },
   "outputs": [],
   "source": [
    "# Note: This may take several minutes to run\n",
    "\n",
    "# Plot 100 random spikes\n",
    "plt.figure()\n",
    "plt.plot(three_neurons_training[:100].T)\n",
    "plt.xlim((0, 31))\n",
    "plt.title('100 random spikes')\n",
    "\n",
    "# Plot the 3 spike shapes based on the presorted data\n",
    "for i, waveforms in enumerate(presorted_list):\n",
    "    plt.figure()\n",
    "    plt.title(f\"Waveforms of neuron #{i+1} spike shape\")\n",
    "    plt.plot(waveforms.T)\n",
    "    plt.xlabel('Samples')\n",
    "    plt.ylabel('Electrode Reading')\n",
    "    plt.figure()\n",
    "    plt.title(f\"Average waveform of neuron #{i+1} spike shape\")\n",
    "    plt.plot(np.mean(waveforms, axis=0))\n",
    "    plt.xlabel('Samples')\n",
    "    plt.ylabel('Electrode Reading')\n",
    "    \n",
    "plt.figure()   \n",
    "for i, waveforms in enumerate(presorted_list):\n",
    "    plt.plot(np.mean(waveforms, axis=0), label=f'neuron #{i+1}')\n",
    "    plt.xlabel('Samples')\n",
    "    plt.ylabel('Electrode Reading')\n",
    "plt.xlim((0, 31))\n",
    "plt.title('Averaged presorted 3 neuron spikes')\n",
    "plt.legend()"
   ]
  },
  {
   "cell_type": "markdown",
   "metadata": {},
   "source": [
    "You will be using <a href=\"http://docs.scipy.org/doc/numpy/reference/generated/numpy.linalg.svd.html\">np.linalg.svd</a> in your PCA function. Read the documentation for this function to figure out how to choose the principal components used as the basis for the lower dimensional space. (Note: in the docs, `a.H` means the congugate transpose of a)."
   ]
  },
  {
   "cell_type": "markdown",
   "metadata": {},
   "source": [
    "## Part e)"
   ]
  },
  {
   "cell_type": "code",
   "execution_count": null,
   "metadata": {
    "scrolled": false
   },
   "outputs": [],
   "source": [
    "def PCA_train(training_set, n_components):\n",
    "    \"\"\" Use np.linalg.svd to perform PCA\n",
    "    Parameters:\n",
    "        training_set: the data set to perform PCA on (MxN)\n",
    "        n_components: the dimensionality of the basis to return (i.e., number of neurons)\n",
    "    Returns: \n",
    "        The n_components principal components with highest significants\n",
    "    \"\"\"    \n",
    "    \n",
    "    # Our data (each signal waveform) is stored in the rows of the training set.\n",
    "    # For that reason, our principal components will be the columns of V (rows of Vt).\n",
    "    # So, we can grab the first n_components columns of V as our principal components.\n",
    "    U, s, Vt = np.linalg.svd(training_set)\n",
    "    # We need to grab the first n_components columns of V. \n",
    "    # Same thing as grabing the first n_components rows of Vt and then transposing.\n",
    "    basis_components = Vt[:n_components].T\n",
    "    \n",
    "    return basis_components\n",
    "\n",
    "def PCA_project(data, principal_components):\n",
    "    \"\"\" Project the data set into the new basis vectors. \n",
    "    In another word, here we aim to project the vectors to the new basis cordinates (dimension K in this case) \n",
    "    and return the projection coefficients.\n",
    "    Parameters:\n",
    "        data: data to project (MxN)\n",
    "        principal_components: Our k principal components as column vectors (NxK)\n",
    "    Returns: \n",
    "        Data projected onto new_basis (MxK), i.e., the projection coefficients\n",
    "    \"\"\"\n",
    "    # YOUR CODE HERE\n",
    "    return\n",
    "    # END YOUR CODE"
   ]
  },
  {
   "cell_type": "markdown",
   "metadata": {},
   "source": [
    "## Part f)"
   ]
  },
  {
   "cell_type": "code",
   "execution_count": null,
   "metadata": {
    "scrolled": false
   },
   "outputs": [],
   "source": [
    "# Perform PCA on two neurons training data and plot the first 2 principal components.\n",
    "\n",
    "# YOUR CODE HERE (replace the ? in the function call)\n",
    "two_new_basis_2pcs = PCA_train(?, ?)\n",
    "# END YOUR CODE\n",
    "\n",
    "# Plot the basis components\n",
    "plt.figure()\n",
    "for i, comp in enumerate(two_new_basis_2pcs.T):\n",
    "    plt.plot(comp, label=f\"Principal Component #{i+1}\")\n",
    "plt.title(\"First 2 Principal Components\")\n",
    "plt.legend()"
   ]
  },
  {
   "cell_type": "markdown",
   "metadata": {},
   "source": [
    "## Part g)"
   ]
  },
  {
   "cell_type": "code",
   "execution_count": null,
   "metadata": {},
   "outputs": [],
   "source": [
    "random_directions = np.random.randint(2, size=(32, 2))\n",
    "\n",
    "two_projected = PCA_project(two_neurons_test, random_directions)\n",
    "\n",
    "# Plot the projected neurons\n",
    "plt.figure()\n",
    "plt.scatter(*two_projected.T, s=1)\n",
    "plt.title('two_neurons_test onto random directions')\n",
    "plt.xlabel('Projection onto 1st Principal Component')\n",
    "plt.ylabel('Projection onto 2nd Principal Component')\n",
    "\n",
    "# Project the presorted data and plot it\n",
    "plt.figure()\n",
    "presorted_two_projected = [PCA_project(spikes, random_directions) for spikes in presorted_list[1:]]\n",
    "colors = ['#0000ff', '#00ff00']\n",
    "for dat, color in zip(presorted_two_projected, colors):\n",
    "    plt.scatter(*dat.T, c=color, alpha=0.2,s=1)\n",
    "plt.title('Presorted data onto random directions')\n",
    "plt.xlabel('Projection onto 1st Principal Component')\n",
    "plt.ylabel('Projection onto 2nd Principal Component')"
   ]
  },
  {
   "cell_type": "markdown",
   "metadata": {},
   "source": [
    "## Part h)"
   ]
  },
  {
   "cell_type": "code",
   "execution_count": null,
   "metadata": {
    "scrolled": false
   },
   "outputs": [],
   "source": [
    "# Project the test data two_neurons_test to the basis you found earlier\n",
    "\n",
    "# YOUR CODE HERE\n",
    "two_projected = PCA_project(?, ?)\n",
    "# END YOUR CODE\n",
    "\n",
    "\n",
    "# Plot the projected neurons\n",
    "plt.figure()\n",
    "plt.scatter(*two_projected.T,s=1)\n",
    "plt.title('two_neurons_test onto PCA directions')\n",
    "plt.xlabel('Projection onto 1st Principal Component')\n",
    "plt.ylabel('Projection onto 2nd Principal Component')\n",
    "\n",
    "# Project the presorted data and plot it\n",
    "plt.figure()\n",
    "presorted_two_projected = [PCA_project(spikes, two_new_basis_2pcs) for spikes in presorted_list[1:]]\n",
    "colors = ['#0000ff', '#00ff00']\n",
    "for dat, color in zip(presorted_two_projected, colors):\n",
    "    plt.scatter(*dat.T, c=color, s=1, alpha=0.2)\n",
    "plt.title('Presorted data onto PCA directions')\n",
    "plt.xlabel('Projection onto 1st Principal Component')\n",
    "plt.ylabel('Projection onto 2nd Principal Component')"
   ]
  },
  {
   "cell_type": "markdown",
   "metadata": {},
   "source": [
    "## Part i)"
   ]
  },
  {
   "cell_type": "markdown",
   "metadata": {},
   "source": [
    "We have projected the 2 neuron set onto 2 principal components. Lets see what happens if we project the 2 neuron set onto 3 principal components."
   ]
  },
  {
   "cell_type": "code",
   "execution_count": null,
   "metadata": {},
   "outputs": [],
   "source": [
    "# Perform PCA and plot the first 3 principal components.\n",
    "two_new_basis_3pcs = PCA_train(two_neurons_training, 3)\n",
    "\n",
    "# Plot the basis components\n",
    "plt.figure()\n",
    "for i, comp in enumerate(two_new_basis_3pcs.T):\n",
    "    plt.plot(comp, label=f\"Principal Component #{i+1}\")\n",
    "plt.title(\"First 3 Principal Components\")\n",
    "plt.legend()"
   ]
  },
  {
   "cell_type": "code",
   "execution_count": null,
   "metadata": {},
   "outputs": [],
   "source": [
    "def plot_3D(data, view_from_top=False):\n",
    "    \"\"\" Takes list of arrays (x, y, z) coordinate triples\n",
    "    One array of triples per color\n",
    "    \"\"\"\n",
    "    fig = plt.figure()\n",
    "    ax = fig.add_subplot(111, projection='3d')\n",
    "    colors = ['#0000ff', '#00ff00', '#ff0000']\n",
    "    for dat, color in zip(data, colors):\n",
    "        Axes3D.scatter(ax, *dat.T, s=1, c=color, alpha=0.2)\n",
    "    if view_from_top:\n",
    "        ax.view_init(elev=90., azim=0)                # Move perspective to view from top\n",
    "    return ax\n",
    "\n",
    "        \n",
    "# Classify the three_neurons_test data based on the basis computed above\n",
    "two_projected_3pcs = PCA_project(two_neurons_test, two_new_basis_3pcs)\n",
    "\n",
    "# Plot the resulting projection\n",
    "ax = plot_3D([two_projected_3pcs], False)\n",
    "plt.title('two_neurons_test projected to 3 principal components')\n",
    "ax.set_xlabel('Projection onto 1st Principal Component')\n",
    "ax.set_ylabel('Projection onto 2nd Principal Component')\n",
    "ax.set_zlabel('Projection onto 3rd Principal Component')\n",
    "\n",
    "presorted_projected = [PCA_project(spikes, two_new_basis_3pcs) for spikes in presorted_list[1:]]\n",
    "ax = plot_3D(presorted_projected, False)\n",
    "plt.title('Presorted data projected to 3 principal components')\n",
    "ax.set_xlabel('Projection onto 1st Principal Component')\n",
    "ax.set_ylabel('Projection onto 2nd Principal Component')\n",
    "ax.set_zlabel('Projection onto 3rd Principal Component')"
   ]
  },
  {
   "cell_type": "markdown",
   "metadata": {},
   "source": [
    "Note that the first principal component separates the two neurons in the $x$-axis. Thus, technically we only need 1 principal component to separate the two neurons. This is because the algorithm maximizes the square of the dot product of each signal with the principal component, which results in a large positive dot product with 1 neuron and a large negative dot product with the other."
   ]
  },
  {
   "cell_type": "markdown",
   "metadata": {},
   "source": [
    "## Task 2: Three Neuron Spike Sorting"
   ]
  },
  {
   "cell_type": "markdown",
   "metadata": {},
   "source": [
    "## Part j)"
   ]
  },
  {
   "cell_type": "code",
   "execution_count": null,
   "metadata": {},
   "outputs": [],
   "source": [
    "# Train with three neuron data, producing 2 principal components\n",
    "\n",
    "# YOUR CODE HERE\n",
    "three_new_basis_2pcs = PCA_train(?, ?)\n",
    "# END YOUR CODE\n",
    "\n",
    "# Plot the resulting basis\n",
    "plt.figure()\n",
    "for i, comp in enumerate(three_new_basis_2pcs.T):\n",
    "    plt.plot(comp, label=f\"Principal Component #{i+1}\")\n",
    "plt.title(\"First 2 Principal Components\")\n",
    "plt.legend()"
   ]
  },
  {
   "cell_type": "code",
   "execution_count": null,
   "metadata": {},
   "outputs": [],
   "source": [
    "# Project datapoints on the principal components\n",
    "basis = three_new_basis_2pcs[:,:2]\n",
    "three_projected_2pcs = PCA_project(three_neurons_test, basis)\n",
    "presorted_projected_2pcs = [PCA_project(spikes, basis) for spikes in presorted_list]\n",
    "\n",
    "# Plot the resulting projection\n",
    "plt.figure()\n",
    "plt.title(\"three_neurons_test projected to 2 principal components\")\n",
    "plt.xlabel('Projection onto 1st Principal Component')\n",
    "plt.ylabel('Projection onto 2nd Principal Component')\n",
    "plt.scatter(three_projected_2pcs.T[0], three_projected_2pcs.T[1], s=1)\n",
    "\n",
    "plt.figure()\n",
    "plt.title(\"Presorted data projected to 2 principal components\")\n",
    "plt.xlabel('Projection onto 1st Principal Component')\n",
    "plt.ylabel('Projection onto 2nd Principal Component')\n",
    "for p in presorted_projected_2pcs:\n",
    "    plt.scatter(p.T[0], p.T[1], s=1, alpha=0.2)"
   ]
  },
  {
   "cell_type": "markdown",
   "metadata": {},
   "source": [
    "## Part k)"
   ]
  },
  {
   "cell_type": "code",
   "execution_count": null,
   "metadata": {
    "scrolled": false
   },
   "outputs": [],
   "source": [
    "# Repeat training with three neuron data, producing 3 principal components\n",
    "\n",
    "# YOUR CODE HERE\n",
    "three_new_basis_3pcs = PCA_train(?, ?)\n",
    "# END YOUR CODE\n",
    "\n",
    "# Plot the resulting basis\n",
    "plt.figure()\n",
    "for i, comp in enumerate(three_new_basis_3pcs.T):\n",
    "    plt.plot(comp, label=f\"Principal Component #{i+1}\")\n",
    "plt.title(\"First 3 Principal Components\")\n",
    "plt.legend()"
   ]
  },
  {
   "cell_type": "code",
   "execution_count": null,
   "metadata": {
    "scrolled": false
   },
   "outputs": [],
   "source": [
    "def plot_3D(data, view_from_top=False):\n",
    "    \"\"\" Takes list of arrays (x, y, z) coordinate triples\n",
    "    One array of triples per color\n",
    "    \"\"\"\n",
    "    fig=plt.figure(figsize=(10,7))\n",
    "    ax = fig.add_subplot(111, projection='3d')\n",
    "    colors = ['#0000ff', '#00ff00', '#ff0000']\n",
    "    for dat, color in zip(data, colors):\n",
    "        Axes3D.scatter(ax, *dat.T, s=1, c=color, alpha=0.2)\n",
    "    if view_from_top:\n",
    "        ax.view_init(elev=90.,azim=0)                # Move perspective to view from top\n",
    "    return ax\n",
    "\n",
    "        \n",
    "# Classify the three_neurons_test data based on the basis computed above\n",
    "# YOUR CODE HERE\n",
    "three_projected_3pcs = PCA_project(?, ?)\n",
    "# END YOUR CODE\n",
    "\n",
    "# Plot the resulting projection\n",
    "ax = plot_3D([three_projected_3pcs], False)\n",
    "plt.title('three_neurons_test projected to 3 principal components')\n",
    "ax.set_xlabel('Projection onto 1st Principal Component')\n",
    "ax.set_ylabel('Projection onto 2nd Principal Component')\n",
    "ax.set_zlabel('3rd Direction Projection')\n",
    "\n",
    "presorted_projected_3pcs = [PCA_project(spikes, three_new_basis_3pcs) for spikes in presorted_list]\n",
    "ax = plot_3D(presorted_projected_3pcs, False)\n",
    "plt.title('Presorted data projected to 3 principal components')\n",
    "ax.set_xlabel('Projection onto 1st Principal Component')\n",
    "ax.set_ylabel('Projection onto 2nd Principal Component')\n",
    "ax.set_zlabel('3rd Direction Projection')"
   ]
  },
  {
   "cell_type": "markdown",
   "metadata": {},
   "source": [
    "Change the second argument to the `plot_3D` function calls above to True or rotate in the interactive viewer to view the plots \"from the top\" (i.e. looking down the positive z axis)."
   ]
  },
  {
   "cell_type": "markdown",
   "metadata": {},
   "source": [
    "## Task 3: Determining Neurons"
   ]
  },
  {
   "cell_type": "markdown",
   "metadata": {},
   "source": [
    "## Part m)"
   ]
  },
  {
   "cell_type": "code",
   "execution_count": null,
   "metadata": {},
   "outputs": [],
   "source": [
    "# Find the centroids of the presorted data\n",
    "# HINT: Use presorted_two_projected for the presorted data.\n",
    "# YOUR CODE HERE\n",
    "centroid1 =\n",
    "centroid2 =\n",
    "# END YOUR CODE \n",
    "\n",
    "print(\"Centroid 1:\", centroid1)\n",
    "print(\"Centroid 2:\", centroid2)"
   ]
  },
  {
   "cell_type": "code",
   "execution_count": null,
   "metadata": {},
   "outputs": [],
   "source": [
    "def which_neuron(data_point, centroid1, centroid2):\n",
    "    \"\"\" Determine which centroid is closest to the data point\n",
    "    Inputs:\n",
    "        data_point: 1x2 array containing x/y coordinates of data point\n",
    "        centroid1: 1x2 array containing x/y coordinates of centroid 1\n",
    "        centroid2: 1x2 array containing x/y coordinates of centroid 2\n",
    "    Returns: \n",
    "        The number of the centroid closest to the data point\n",
    "    \"\"\"\n",
    "    dist1 = np.linalg.norm(data_point - centroid1)\n",
    "    dist2 = np.linalg.norm(data_point - centroid2)\n",
    "    \n",
    "    if dist1 >= dist2:\n",
    "    # YOUR CODE HERE\n",
    "        return  # What should we return if we are closer to centroid 2?\n",
    "    else:\n",
    "        return  # What should we return if we are closer to centroid 1?\n",
    "    # END YOUR CODE "
   ]
  },
  {
   "cell_type": "code",
   "execution_count": null,
   "metadata": {},
   "outputs": [],
   "source": [
    "num_of_firings = np.zeros(2, dtype=np.int64)\n",
    "label_arr = []\n",
    "for datapoint in two_projected:\n",
    "    neuron_number = which_neuron(datapoint, centroid1, centroid2)\n",
    "    num_of_firings[neuron_number - 1] += 1\n",
    "    label_arr.append(neuron_number)\n",
    "\n",
    "print(f'Neuron 1 identified {num_of_firings[0]:d} times')\n",
    "print(f'Neuron 2 identified {num_of_firings[1]:d} times')\n",
    "\n",
    "plt.figure()\n",
    "plt.title('Centroid Mean Classification')\n",
    "plt.xlabel('Projection onto 1st Principal Component')\n",
    "plt.ylabel('Projection onto 2nd Principal Component')\n",
    "plt.scatter(*two_projected.T,  c=label_arr, marker='.')"
   ]
  }
 ],
 "metadata": {
  "kernelspec": {
   "display_name": "Python 3 (ipykernel)",
   "language": "python",
   "name": "python3"
  },
  "language_info": {
   "codemirror_mode": {
    "name": "ipython",
    "version": 3
   },
   "file_extension": ".py",
   "mimetype": "text/x-python",
   "name": "python",
   "nbconvert_exporter": "python",
   "pygments_lexer": "ipython3",
   "version": "3.8.8"
  }
 },
 "nbformat": 4,
 "nbformat_minor": 1
}
