{
 "cells": [
  {
   "cell_type": "markdown",
   "metadata": {},
   "source": [
    "# HW 3 RLC Computation"
   ]
  },
  {
   "cell_type": "code",
   "execution_count": 6,
   "metadata": {},
   "outputs": [],
   "source": [
    "import numpy as np\n",
    "import numpy.linalg as LA"
   ]
  },
  {
   "cell_type": "markdown",
   "metadata": {},
   "source": [
    "## IMPORTANT:\n",
    "Note that this notebook is **NOT required**. Rather, it is only meant to help you with your computations in the RLC circuit computations. More specifically, this will require you to write general functions to compute the matrix A, eigenvalues, and matrix V of the RLC system.\n",
    "\n",
    "Sections marked `TODO` are intended for you to fill in."
   ]
  },
  {
   "cell_type": "markdown",
   "metadata": {},
   "source": [
    "## 2 RLC Responses: Initial Part\n",
    "First we will reintroduce the contexts for the system we are analyzing\n",
    "<img src=\"images/general.png\">\n",
    "Recall that we have the following relationships\n",
    "$$\n",
    "\\begin{align}\n",
    "    \\vec{x}(t) &= \n",
    "        \\begin{bmatrix}\n",
    "           x_{1}(t) \\\\\n",
    "           x_{2}(t) \n",
    "         \\end{bmatrix} = \n",
    "         \\begin{bmatrix}\n",
    "           I_L(t) \\\\\n",
    "           V_C(t) \n",
    "         \\end{bmatrix}\n",
    "  \\end{align}\n",
    "$$\n",
    "\n",
    "$$\n",
    "\\frac{d}{dt}\\vec{x}(t) = A\\vec{x}(t), \\text{ where } A \\in \\mathbb{R}^{2 \\times 2}\n",
    "$$\n",
    "\n",
    "$$\n",
    "(\\lambda_1, \\vec{v_1}), (\\lambda_2, \\vec{v_2}) \\text{ such that }A\\vec{v_1}=\\lambda_1\\vec{v_1}, A\\vec{v_2}=\\lambda_2\\vec{v_2}\n",
    "$$\n",
    "\n",
    "$$\n",
    "\\vec{x}(t) = V\\vec{\\wt{x}}(t), \\text{ where } V = \n",
    "    \\begin{bmatrix}\n",
    "       \\vec{v_1} & \\vec{v_2} \n",
    "    \\end{bmatrix}\n",
    "$$"
   ]
  },
  {
   "cell_type": "markdown",
   "metadata": {},
   "source": [
    "Impliment the following functions: \n",
    "`generate_A`,\n",
    "`generate_eig`,\n",
    "`generate_V:`"
   ]
  },
  {
   "cell_type": "code",
   "execution_count": 1,
   "metadata": {},
   "outputs": [],
   "source": [
    "# Description:\n",
    "#     Returns the matrix A\n",
    "# Inputs: \n",
    "#     R (float) - Resistance of the RLC circuit\n",
    "#     L (float) - Inductance of the RLC circuit\n",
    "#     C (float) - Capacitance of the RLC circuit\n",
    "# Output:\n",
    "#     A - The matrix of our system\n",
    "def generate_A(R, L, C):\n",
    "    A = np.zeros((2, 2), dtype=np.cdouble)\n",
    "    # Define A as a function of R, L, C below\n",
    "    A[0][0] = -R / L\n",
    "    A[0][1] = -1 / L\n",
    "    A[1][0] =  1 / C\n",
    "    A[1][1] = 0\n",
    "    return A"
   ]
  },
  {
   "cell_type": "code",
   "execution_count": 2,
   "metadata": {},
   "outputs": [],
   "source": [
    "# Description:\n",
    "#     Returns the eigenvalues of the matrix A\n",
    "# Inputs: \n",
    "#     R (float) - Resistance of the RLC circuit\n",
    "#     L (float) - Inductance of the RLC circuit\n",
    "#     C (float) - Capacitance of the RLC circuit\n",
    "# Output:\n",
    "#     lambda1 (float) - The first eigenvalue of A\n",
    "#     lambda2 (float) - The second eigenvalue of A\n",
    "def generate_eig(R, L, C):\n",
    "    lambd1, lambd2 = 0, 0\n",
    "    # Define lambd1, lambd2 as a function of R, L, C below.\n",
    "    # NOTE - You cannot square root a negative number. Instead,\n",
    "    # if a number is negative, square root it's absolute value\n",
    "    # and multiply it by '1j'. \n",
    "    if (R ** 2 - (4 * L / C) > 0):\n",
    "        lambd1 = (-R + np.sqrt(R ** 2 - (4 * L / C))) / (2 * L)\n",
    "        lambd2 = (-R - np.sqrt(R ** 2 - (4 * L / C))) / (2 * L)\n",
    "    else:\n",
    "        lambd1 = (-R + 1j*np.sqrt(-(R ** 2 - (4 * L / C)))) / (2 * L)\n",
    "        lambd2 = (-R - 1j*np.sqrt(-(R ** 2 - (4 * L / C)))) / (2 * L)\n",
    "    return lambd1, lambd2"
   ]
  },
  {
   "cell_type": "code",
   "execution_count": 3,
   "metadata": {},
   "outputs": [],
   "source": [
    "# Description:\n",
    "#     Returns the matrix with the eigenvectors A as each column (V = [v1, v2]) \n",
    "# Inputs: \n",
    "#     R (float) - Resistance of the RLC circuit\n",
    "#     L (float) - Inductance of the RLC circuit\n",
    "#     C (float) - Capacitance of the RLC circuit\n",
    "#     lambda1 (float) - The first eigenvalue of A\n",
    "#     lambda2 (float) - The second eigenvalue of A\n",
    "# Output:\n",
    "#     V (2x2 numpy array) - Matrix with eigenvectors of A as its columns\n",
    "def generate_V(R, L, C, lambd1, lambd2):\n",
    "    V = np.zeros((2, 2), dtype=np.cdouble)\n",
    "    #Define V as a function of lambd1, lambd2 and (maybe) \n",
    "    V[0][0] = 1\n",
    "    V[0][1] = 1\n",
    "    V[1][0] = 1 / (lambd1 * C)\n",
    "    V[1][1] = 1 / (lambd2 * C)\n",
    "    return V"
   ]
  },
  {
   "cell_type": "code",
   "execution_count": 4,
   "metadata": {},
   "outputs": [],
   "source": [
    "#This function will nicely print out your information \n",
    "def print_info(A, V, lambd1, lambd2):\n",
    "    print(f'Matrix A = \\n{A}')\n",
    "    if abs(lambd1 - lambd2) < 1e-4:\n",
    "        print(\"\\nLambda 1 = Lambda 2 = \" + \"{0.real:.4e} + {0.imag:.4e}j\".format(lambd1))\n",
    "        print(f'\\nEigenvector = \\n{V[:,0]}')\n",
    "    else:\n",
    "        print(\"\\nLambda 1 = \" + \"{0.real:.4e} + {0.imag:.4e}j\".format(lambd1) + \"\\nLambda 2 = \" + \"{0.real:.4e} + {0.imag:.4e}j\".format(lambd2))\n",
    "        print(f'\\nEigenbasis Matrix V = \\n{V}')"
   ]
  },
  {
   "cell_type": "markdown",
   "metadata": {},
   "source": [
    "## 3 RLC Responses: Overdamped Case\n",
    "<img src=\"images/overdamped.png\">"
   ]
  },
  {
   "cell_type": "code",
   "execution_count": 8,
   "metadata": {},
   "outputs": [],
   "source": [
    "R = 1e3\n",
    "L = 25e-6\n",
    "C = 10e-9\n",
    "\n",
    "#A matrix\n",
    "A = generate_A(R, L, C)\n",
    "#Eigen values\n",
    "lambd1, lambd2 = generate_eig(R, L, C)\n",
    "#V matrix\n",
    "V = generate_V(R, L, C, lambd1, lambd2)\n",
    "\n",
    "print_info(A, V, lambd1, lambd2)"
   ]
  },
  {
   "cell_type": "code",
   "execution_count": null,
   "metadata": {},
   "outputs": [],
   "source": [
    "#Feel free to use the space below for additional computations"
   ]
  },
  {
   "cell_type": "markdown",
   "metadata": {},
   "source": [
    "## 4 RLC Responses: Undamped Case\n",
    "<img src=\"images/undamped.png\">"
   ]
  },
  {
   "cell_type": "code",
   "execution_count": 10,
   "metadata": {},
   "outputs": [],
   "source": [
    "R = 0\n",
    "L = 25e-6\n",
    "C = 10e-9\n",
    "\n",
    "#A matrix\n",
    "A = generate_A(R, L, C)\n",
    "#Eigen values\n",
    "lambd1, lambd2 = generate_eig(R, L, C)\n",
    "#V matrix\n",
    "V = generate_V(R, L, C, lambd1, lambd2)\n",
    "\n",
    "print_info(A, V, lambd1, lambd2)"
   ]
  },
  {
   "cell_type": "code",
   "execution_count": null,
   "metadata": {},
   "outputs": [],
   "source": [
    "#Feel free to use the space below for additional computations"
   ]
  },
  {
   "cell_type": "markdown",
   "metadata": {},
   "source": [
    "## 5 RLC Responses: Underdamped Case\n",
    "<img src=\"images/underdamped.png\">"
   ]
  },
  {
   "cell_type": "code",
   "execution_count": 12,
   "metadata": {},
   "outputs": [],
   "source": [
    "R = 1\n",
    "L = 25e-6\n",
    "C = 10e-9\n",
    "\n",
    "#A matrix\n",
    "A = generate_A(R, L, C)\n",
    "#Eigen values\n",
    "lambd1, lambd2 = generate_eig(R, L, C)\n",
    "#V matrix\n",
    "V = generate_V(R, L, C, lambd1, lambd2)\n",
    "\n",
    "print_info(A, V, lambd1, lambd2)"
   ]
  },
  {
   "cell_type": "code",
   "execution_count": 13,
   "metadata": {},
   "outputs": [],
   "source": [
    "#Feel free to use the space below for additional computations"
   ]
  }
 ],
 "metadata": {
  "kernelspec": {
   "display_name": "Python 3",
   "language": "python",
   "name": "python3"
  },
  "language_info": {
   "codemirror_mode": {
    "name": "ipython",
    "version": 3
   },
   "file_extension": ".py",
   "mimetype": "text/x-python",
   "name": "python",
   "nbconvert_exporter": "python",
   "pygments_lexer": "ipython3",
   "version": "3.8.8"
  }
 },
 "nbformat": 4,
 "nbformat_minor": 2
}
